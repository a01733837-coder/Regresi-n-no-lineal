{
 "cells": [
  {
   "cell_type": "code",
   "execution_count": 1,
   "id": "094731a7",
   "metadata": {},
   "outputs": [],
   "source": [
    "#Cargamos librerias\n",
    "import numpy as np\n",
    "import matplotlib.pyplot as plt\n",
    "import scipy.special as special\n",
    "from scipy.optimize import curve_fit\n",
    "import seaborn as sns\n",
    "from sklearn.metrics import r2_score\n",
    "import pandas as pd"
   ]
  },
  {
   "cell_type": "code",
   "execution_count": 2,
   "id": "4c4f16d6",
   "metadata": {},
   "outputs": [
    {
     "data": {
      "text/html": [
       "<div>\n",
       "<style scoped>\n",
       "    .dataframe tbody tr th:only-of-type {\n",
       "        vertical-align: middle;\n",
       "    }\n",
       "\n",
       "    .dataframe tbody tr th {\n",
       "        vertical-align: top;\n",
       "    }\n",
       "\n",
       "    .dataframe thead th {\n",
       "        text-align: right;\n",
       "    }\n",
       "</style>\n",
       "<table border=\"1\" class=\"dataframe\">\n",
       "  <thead>\n",
       "    <tr style=\"text-align: right;\">\n",
       "      <th></th>\n",
       "      <th>source</th>\n",
       "      <th>host_location</th>\n",
       "      <th>host_response_time</th>\n",
       "      <th>host_verifications</th>\n",
       "      <th>host_has_profile_pic</th>\n",
       "      <th>host_identity_verified</th>\n",
       "      <th>neighbourhood</th>\n",
       "      <th>neighbourhood_group_cleansed</th>\n",
       "      <th>property_type</th>\n",
       "      <th>room_type</th>\n",
       "      <th>...</th>\n",
       "      <th>review_scores_accuracy</th>\n",
       "      <th>review_scores_cleanliness</th>\n",
       "      <th>review_scores_checkin</th>\n",
       "      <th>review_scores_communication</th>\n",
       "      <th>review_scores_location</th>\n",
       "      <th>review_scores_value</th>\n",
       "      <th>calculated_host_listings_count</th>\n",
       "      <th>calculated_host_listings_count_entire_homes</th>\n",
       "      <th>calculated_host_listings_count_private_rooms</th>\n",
       "      <th>reviews_per_month</th>\n",
       "    </tr>\n",
       "  </thead>\n",
       "  <tbody>\n",
       "    <tr>\n",
       "      <th>0</th>\n",
       "      <td>city scrape</td>\n",
       "      <td>Heraklion, Greece</td>\n",
       "      <td>within an hour</td>\n",
       "      <td>['email', 'phone']</td>\n",
       "      <td>t</td>\n",
       "      <td>t</td>\n",
       "      <td>Gazi, Greece</td>\n",
       "      <td>Not provided</td>\n",
       "      <td>Entire rental unit</td>\n",
       "      <td>Entire home/apt</td>\n",
       "      <td>...</td>\n",
       "      <td>4.94</td>\n",
       "      <td>4.91</td>\n",
       "      <td>4.96</td>\n",
       "      <td>4.99</td>\n",
       "      <td>4.64</td>\n",
       "      <td>4.92</td>\n",
       "      <td>3</td>\n",
       "      <td>3</td>\n",
       "      <td>0</td>\n",
       "      <td>0.82</td>\n",
       "    </tr>\n",
       "    <tr>\n",
       "      <th>1</th>\n",
       "      <td>city scrape</td>\n",
       "      <td>Matala, Greece</td>\n",
       "      <td>within an hour</td>\n",
       "      <td>['email', 'phone', 'work_email']</td>\n",
       "      <td>t</td>\n",
       "      <td>t</td>\n",
       "      <td>Matala, Crete Island, Greece</td>\n",
       "      <td>Not provided</td>\n",
       "      <td>Private room in bed and breakfast</td>\n",
       "      <td>Private room</td>\n",
       "      <td>...</td>\n",
       "      <td>4.14</td>\n",
       "      <td>4.49</td>\n",
       "      <td>4.33</td>\n",
       "      <td>4.43</td>\n",
       "      <td>4.50</td>\n",
       "      <td>4.18</td>\n",
       "      <td>4</td>\n",
       "      <td>0</td>\n",
       "      <td>4</td>\n",
       "      <td>0.26</td>\n",
       "    </tr>\n",
       "    <tr>\n",
       "      <th>2</th>\n",
       "      <td>previous scrape</td>\n",
       "      <td>Chania, Greece</td>\n",
       "      <td>within an hour</td>\n",
       "      <td>['email', 'phone']</td>\n",
       "      <td>t</td>\n",
       "      <td>t</td>\n",
       "      <td>Chania, Greece</td>\n",
       "      <td>Not provided</td>\n",
       "      <td>Entire rental unit</td>\n",
       "      <td>Entire home/apt</td>\n",
       "      <td>...</td>\n",
       "      <td>4.71</td>\n",
       "      <td>4.67</td>\n",
       "      <td>4.87</td>\n",
       "      <td>4.84</td>\n",
       "      <td>4.94</td>\n",
       "      <td>4.66</td>\n",
       "      <td>4</td>\n",
       "      <td>4</td>\n",
       "      <td>0</td>\n",
       "      <td>2.12</td>\n",
       "    </tr>\n",
       "    <tr>\n",
       "      <th>3</th>\n",
       "      <td>city scrape</td>\n",
       "      <td>Greece</td>\n",
       "      <td>within an hour</td>\n",
       "      <td>['email', 'phone']</td>\n",
       "      <td>t</td>\n",
       "      <td>t</td>\n",
       "      <td>Not provided</td>\n",
       "      <td>Not provided</td>\n",
       "      <td>Entire rental unit</td>\n",
       "      <td>Entire home/apt</td>\n",
       "      <td>...</td>\n",
       "      <td>4.50</td>\n",
       "      <td>5.00</td>\n",
       "      <td>5.00</td>\n",
       "      <td>4.50</td>\n",
       "      <td>4.00</td>\n",
       "      <td>4.50</td>\n",
       "      <td>1</td>\n",
       "      <td>1</td>\n",
       "      <td>0</td>\n",
       "      <td>0.01</td>\n",
       "    </tr>\n",
       "    <tr>\n",
       "      <th>4</th>\n",
       "      <td>city scrape</td>\n",
       "      <td>Iraklion, Greece</td>\n",
       "      <td>within an hour</td>\n",
       "      <td>['email', 'phone']</td>\n",
       "      <td>t</td>\n",
       "      <td>t</td>\n",
       "      <td>Agia Pelagia, Crete, Greece</td>\n",
       "      <td>Not provided</td>\n",
       "      <td>Entire rental unit</td>\n",
       "      <td>Entire home/apt</td>\n",
       "      <td>...</td>\n",
       "      <td>4.87</td>\n",
       "      <td>4.80</td>\n",
       "      <td>4.92</td>\n",
       "      <td>4.94</td>\n",
       "      <td>4.68</td>\n",
       "      <td>4.88</td>\n",
       "      <td>13</td>\n",
       "      <td>10</td>\n",
       "      <td>1</td>\n",
       "      <td>0.98</td>\n",
       "    </tr>\n",
       "  </tbody>\n",
       "</table>\n",
       "<p>5 rows × 54 columns</p>\n",
       "</div>"
      ],
      "text/plain": [
       "            source      host_location host_response_time  \\\n",
       "0      city scrape  Heraklion, Greece     within an hour   \n",
       "1      city scrape     Matala, Greece     within an hour   \n",
       "2  previous scrape     Chania, Greece     within an hour   \n",
       "3      city scrape             Greece     within an hour   \n",
       "4      city scrape   Iraklion, Greece     within an hour   \n",
       "\n",
       "                 host_verifications host_has_profile_pic  \\\n",
       "0                ['email', 'phone']                    t   \n",
       "1  ['email', 'phone', 'work_email']                    t   \n",
       "2                ['email', 'phone']                    t   \n",
       "3                ['email', 'phone']                    t   \n",
       "4                ['email', 'phone']                    t   \n",
       "\n",
       "  host_identity_verified                 neighbourhood  \\\n",
       "0                      t                  Gazi, Greece   \n",
       "1                      t  Matala, Crete Island, Greece   \n",
       "2                      t                Chania, Greece   \n",
       "3                      t                  Not provided   \n",
       "4                      t   Agia Pelagia, Crete, Greece   \n",
       "\n",
       "  neighbourhood_group_cleansed                      property_type  \\\n",
       "0                 Not provided                 Entire rental unit   \n",
       "1                 Not provided  Private room in bed and breakfast   \n",
       "2                 Not provided                 Entire rental unit   \n",
       "3                 Not provided                 Entire rental unit   \n",
       "4                 Not provided                 Entire rental unit   \n",
       "\n",
       "         room_type  ... review_scores_accuracy review_scores_cleanliness  \\\n",
       "0  Entire home/apt  ...                   4.94                      4.91   \n",
       "1     Private room  ...                   4.14                      4.49   \n",
       "2  Entire home/apt  ...                   4.71                      4.67   \n",
       "3  Entire home/apt  ...                   4.50                      5.00   \n",
       "4  Entire home/apt  ...                   4.87                      4.80   \n",
       "\n",
       "  review_scores_checkin  review_scores_communication  review_scores_location  \\\n",
       "0                  4.96                         4.99                    4.64   \n",
       "1                  4.33                         4.43                    4.50   \n",
       "2                  4.87                         4.84                    4.94   \n",
       "3                  5.00                         4.50                    4.00   \n",
       "4                  4.92                         4.94                    4.68   \n",
       "\n",
       "   review_scores_value  calculated_host_listings_count  \\\n",
       "0                 4.92                               3   \n",
       "1                 4.18                               4   \n",
       "2                 4.66                               4   \n",
       "3                 4.50                               1   \n",
       "4                 4.88                              13   \n",
       "\n",
       "   calculated_host_listings_count_entire_homes  \\\n",
       "0                                            3   \n",
       "1                                            0   \n",
       "2                                            4   \n",
       "3                                            1   \n",
       "4                                           10   \n",
       "\n",
       "   calculated_host_listings_count_private_rooms  reviews_per_month  \n",
       "0                                             0               0.82  \n",
       "1                                             4               0.26  \n",
       "2                                             0               2.12  \n",
       "3                                             0               0.01  \n",
       "4                                             1               0.98  \n",
       "\n",
       "[5 rows x 54 columns]"
      ]
     },
     "execution_count": 2,
     "metadata": {},
     "output_type": "execute_result"
    }
   ],
   "source": [
    "#Cargar archivo csv desde seaborn\n",
    "df= pd.read_csv('datoslimpioscreta.csv')\n",
    "df.head(5)"
   ]
  },
  {
   "cell_type": "code",
   "execution_count": 74,
   "id": "20d71ab2",
   "metadata": {},
   "outputs": [
    {
     "data": {
      "text/plain": [
       "Index(['source', 'host_location', 'host_response_time', 'host_verifications',\n",
       "       'host_has_profile_pic', 'host_identity_verified', 'neighbourhood',\n",
       "       'neighbourhood_group_cleansed', 'property_type', 'room_type',\n",
       "       'bathrooms_text', 'instant_bookable', 'has_availability',\n",
       "       'host_is_superhost', 'host_response_rate', 'host_acceptance_rate',\n",
       "       'host_listings_count', 'host_total_listings_count', 'latitude',\n",
       "       'longitude', 'accommodates', 'bathrooms', 'bedrooms', 'beds', 'price',\n",
       "       'minimum_nights', 'maximum_nights', 'minimum_minimum_nights',\n",
       "       'maximum_minimum_nights', 'minimum_maximum_nights',\n",
       "       'maximum_maximum_nights', 'minimum_nights_avg_ntm',\n",
       "       'maximum_nights_avg_ntm', 'availability_30', 'availability_60',\n",
       "       'availability_90', 'availability_365', 'number_of_reviews',\n",
       "       'number_of_reviews_ltm', 'availability_eoy', 'number_of_reviews_ly',\n",
       "       'estimated_occupancy_l365d', 'estimated_revenue_l365d',\n",
       "       'review_scores_rating', 'review_scores_accuracy',\n",
       "       'review_scores_cleanliness', 'review_scores_checkin',\n",
       "       'review_scores_communication', 'review_scores_location',\n",
       "       'review_scores_value', 'calculated_host_listings_count',\n",
       "       'calculated_host_listings_count_entire_homes',\n",
       "       'calculated_host_listings_count_private_rooms', 'reviews_per_month'],\n",
       "      dtype='object')"
      ]
     },
     "execution_count": 74,
     "metadata": {},
     "output_type": "execute_result"
    }
   ],
   "source": [
    "df.columns"
   ]
  },
  {
   "cell_type": "code",
   "execution_count": 214,
   "id": "1b2a7dcb",
   "metadata": {},
   "outputs": [
    {
     "data": {
      "text/plain": [
       "Index(['host_is_superhost', 'host_response_rate', 'host_acceptance_rate',\n",
       "       'host_listings_count', 'host_total_listings_count', 'latitude',\n",
       "       'longitude', 'accommodates', 'bathrooms', 'bedrooms', 'beds', 'price',\n",
       "       'minimum_nights', 'maximum_nights', 'minimum_minimum_nights',\n",
       "       'maximum_minimum_nights', 'minimum_maximum_nights',\n",
       "       'maximum_maximum_nights', 'minimum_nights_avg_ntm',\n",
       "       'maximum_nights_avg_ntm', 'availability_30', 'availability_60',\n",
       "       'availability_90', 'availability_365', 'number_of_reviews',\n",
       "       'number_of_reviews_ltm', 'availability_eoy', 'number_of_reviews_ly',\n",
       "       'estimated_occupancy_l365d', 'estimated_revenue_l365d',\n",
       "       'review_scores_rating', 'review_scores_accuracy',\n",
       "       'review_scores_cleanliness', 'review_scores_checkin',\n",
       "       'review_scores_communication', 'review_scores_location',\n",
       "       'review_scores_value', 'calculated_host_listings_count',\n",
       "       'calculated_host_listings_count_entire_homes',\n",
       "       'calculated_host_listings_count_private_rooms', 'reviews_per_month'],\n",
       "      dtype='object')"
      ]
     },
     "execution_count": 214,
     "metadata": {},
     "output_type": "execute_result"
    }
   ],
   "source": [
    "df.select_dtypes(include=['number']).columns"
   ]
  },
  {
   "cell_type": "markdown",
   "id": "c7db19e5",
   "metadata": {},
   "source": [
    "**HOST RESPONSE RATE**"
   ]
  },
  {
   "cell_type": "markdown",
   "id": "135a1fff",
   "metadata": {},
   "source": [
    "Modelo 1"
   ]
  },
  {
   "cell_type": "code",
   "execution_count": 135,
   "id": "1fe015a1",
   "metadata": {},
   "outputs": [],
   "source": [
    "# Función exponencial\n",
    "def func1(x, a, b, c):\n",
    "    return a*np.exp(-b*x) + c\n",
    "#Ajustamos los parámetros de la función curve_fit\n",
    "parametros1, covs= curve_fit(func1, df['minimum_nights'], df['host_response_rate'])\n"
   ]
  },
  {
   "cell_type": "code",
   "execution_count": 136,
   "id": "5d5c7007",
   "metadata": {},
   "outputs": [
    {
     "data": {
      "text/plain": [
       "array([-0.02112278,  0.32323898,  0.98742074])"
      ]
     },
     "execution_count": 136,
     "metadata": {},
     "output_type": "execute_result"
    }
   ],
   "source": [
    "#Obtenemos los coeficientes del modelo de regresión no lineal\n",
    "parametros1"
   ]
  },
  {
   "cell_type": "code",
   "execution_count": 137,
   "id": "2ff4223b",
   "metadata": {},
   "outputs": [
    {
     "data": {
      "text/html": [
       "<div>\n",
       "<style scoped>\n",
       "    .dataframe tbody tr th:only-of-type {\n",
       "        vertical-align: middle;\n",
       "    }\n",
       "\n",
       "    .dataframe tbody tr th {\n",
       "        vertical-align: top;\n",
       "    }\n",
       "\n",
       "    .dataframe thead th {\n",
       "        text-align: right;\n",
       "    }\n",
       "</style>\n",
       "<table border=\"1\" class=\"dataframe\">\n",
       "  <thead>\n",
       "    <tr style=\"text-align: right;\">\n",
       "      <th></th>\n",
       "      <th>minimum_nights_avg_ntm</th>\n",
       "    </tr>\n",
       "  </thead>\n",
       "  <tbody>\n",
       "    <tr>\n",
       "      <th>0</th>\n",
       "      <td>0.979411</td>\n",
       "    </tr>\n",
       "    <tr>\n",
       "      <th>1</th>\n",
       "      <td>0.972132</td>\n",
       "    </tr>\n",
       "    <tr>\n",
       "      <th>2</th>\n",
       "      <td>0.981623</td>\n",
       "    </tr>\n",
       "    <tr>\n",
       "      <th>3</th>\n",
       "      <td>0.979411</td>\n",
       "    </tr>\n",
       "    <tr>\n",
       "      <th>4</th>\n",
       "      <td>0.983851</td>\n",
       "    </tr>\n",
       "    <tr>\n",
       "      <th>...</th>\n",
       "      <td>...</td>\n",
       "    </tr>\n",
       "    <tr>\n",
       "      <th>26159</th>\n",
       "      <td>0.979411</td>\n",
       "    </tr>\n",
       "    <tr>\n",
       "      <th>26160</th>\n",
       "      <td>0.979411</td>\n",
       "    </tr>\n",
       "    <tr>\n",
       "      <th>26161</th>\n",
       "      <td>0.980823</td>\n",
       "    </tr>\n",
       "    <tr>\n",
       "      <th>26162</th>\n",
       "      <td>0.984837</td>\n",
       "    </tr>\n",
       "    <tr>\n",
       "      <th>26163</th>\n",
       "      <td>0.972132</td>\n",
       "    </tr>\n",
       "  </tbody>\n",
       "</table>\n",
       "<p>26164 rows × 1 columns</p>\n",
       "</div>"
      ],
      "text/plain": [
       "       minimum_nights_avg_ntm\n",
       "0                    0.979411\n",
       "1                    0.972132\n",
       "2                    0.981623\n",
       "3                    0.979411\n",
       "4                    0.983851\n",
       "...                       ...\n",
       "26159                0.979411\n",
       "26160                0.979411\n",
       "26161                0.980823\n",
       "26162                0.984837\n",
       "26163                0.972132\n",
       "\n",
       "[26164 rows x 1 columns]"
      ]
     },
     "execution_count": 137,
     "metadata": {},
     "output_type": "execute_result"
    }
   ],
   "source": [
    "# Predicciones\n",
    "y_pred1 = func1(x, *parametros1)\n",
    "#Calculamos las predicciones y reestructuramos el vector de predicciones\n",
    "y_pred1"
   ]
  },
  {
   "cell_type": "code",
   "execution_count": 138,
   "id": "e7236198",
   "metadata": {},
   "outputs": [
    {
     "name": "stderr",
     "output_type": "stream",
     "text": [
      "C:\\Users\\sammm\\AppData\\Local\\Temp\\ipykernel_17336\\608165212.py:2: UserWarning: color is redundantly defined by the 'color' keyword argument and the fmt string \"bo\" (-> color='b'). The keyword argument will take precedence.\n",
      "  plt.plot(x, y, 'bo', label=\"y-original\", color= \"blue\")\n",
      "C:\\Users\\sammm\\AppData\\Local\\Temp\\ipykernel_17336\\608165212.py:3: UserWarning: color is redundantly defined by the 'color' keyword argument and the fmt string \"bo\" (-> color='b'). The keyword argument will take precedence.\n",
      "  plt.plot(x, y_pred1,'bo', label=\"y-predecida con a*np.exp(-b*x) + c\", color= \"red\")\n"
     ]
    },
    {
     "data": {
      "image/png": "[encoded data removed]",
      "text/plain": [
       "<Figure size 640x480 with 1 Axes>"
      ]
     },
     "metadata": {},
     "output_type": "display_data"
    }
   ],
   "source": [
    "#Graficamos las predicciones y los datos originales para realizar la comparación\n",
    "plt.plot(x, y, 'bo', label=\"y-original\", color= \"blue\")\n",
    "plt.plot(x, y_pred1,'bo', label=\"y-predecida con a*np.exp(-b*x) + c\", color= \"red\")\n",
    "plt.xlabel('x')\n",
    "plt.ylabel('y')\n",
    "plt.legend(loc='best', fancybox=True, shadow=True)\n",
    "plt.grid(True)\n",
    "plt.show() "
   ]
  },
  {
   "cell_type": "code",
   "execution_count": 164,
   "id": "fb48ac21",
   "metadata": {},
   "outputs": [
    {
     "data": {
      "text/plain": [
       "np.float64(0.009853584884769194)"
      ]
     },
     "execution_count": 164,
     "metadata": {},
     "output_type": "execute_result"
    }
   ],
   "source": [
    "#Correlación modelo lineal\n",
    "corr1 = df['minimum_nights'].corr(df['host_response_rate'])  # correlación de Pearson entre ambas columnas\n",
    "corr1"
   ]
  },
  {
   "cell_type": "code",
   "execution_count": 140,
   "id": "4c700790",
   "metadata": {},
   "outputs": [
    {
     "data": {
      "text/plain": [
       "0.0025149608429028136"
      ]
     },
     "execution_count": 140,
     "metadata": {},
     "output_type": "execute_result"
    }
   ],
   "source": [
    "#Calculamos el coeficiente de determinación del modelo\n",
    "R2_Modelo1 = r2_score(y, y_pred1) \n",
    "R2_Modelo1 "
   ]
  },
  {
   "cell_type": "code",
   "execution_count": 165,
   "id": "a2135d12",
   "metadata": {},
   "outputs": [
    {
     "data": {
      "text/plain": [
       "np.float64(0.05014938526944088)"
      ]
     },
     "execution_count": 165,
     "metadata": {},
     "output_type": "execute_result"
    }
   ],
   "source": [
    "#Calculamos el coeficiente de correlación del modelo\n",
    "R = np.sqrt(R2_Modelo1)\n",
    "R"
   ]
  },
  {
   "cell_type": "markdown",
   "id": "b4ab8a43",
   "metadata": {},
   "source": [
    "Modelo 2"
   ]
  },
  {
   "cell_type": "code",
   "execution_count": 188,
   "id": "64c76717",
   "metadata": {},
   "outputs": [],
   "source": [
    "# Función tangencial\n",
    "def func2(x, a, b):\n",
    "    return a*np.tan(x) + b\n",
    "\n"
   ]
  },
  {
   "cell_type": "code",
   "execution_count": 189,
   "id": "294fa9d8",
   "metadata": {},
   "outputs": [],
   "source": [
    "#Ajustamos los parámetros de la función curve_fit\n",
    "parametros2, covs2= curve_fit(func2, df['minimum_nights'], df['host_response_rate'])"
   ]
  },
  {
   "cell_type": "code",
   "execution_count": 190,
   "id": "e397d655",
   "metadata": {},
   "outputs": [
    {
     "data": {
      "text/plain": [
       "array([-1.82671384e-04,  9.78238113e-01])"
      ]
     },
     "execution_count": 190,
     "metadata": {},
     "output_type": "execute_result"
    }
   ],
   "source": [
    "#Obtenemos los coeficientes del modelo de regresión no lineal\n",
    "parametros2"
   ]
  },
  {
   "cell_type": "code",
   "execution_count": 191,
   "id": "035ac588",
   "metadata": {},
   "outputs": [],
   "source": [
    "# Predicciones\n",
    "y_pred2 = func2(x, *parametros2)"
   ]
  },
  {
   "cell_type": "code",
   "execution_count": 192,
   "id": "ff5d6e9e",
   "metadata": {},
   "outputs": [
    {
     "data": {
      "text/html": [
       "<div>\n",
       "<style scoped>\n",
       "    .dataframe tbody tr th:only-of-type {\n",
       "        vertical-align: middle;\n",
       "    }\n",
       "\n",
       "    .dataframe tbody tr th {\n",
       "        vertical-align: top;\n",
       "    }\n",
       "\n",
       "    .dataframe thead th {\n",
       "        text-align: right;\n",
       "    }\n",
       "</style>\n",
       "<table border=\"1\" class=\"dataframe\">\n",
       "  <thead>\n",
       "    <tr style=\"text-align: right;\">\n",
       "      <th></th>\n",
       "      <th>minimum_nights_avg_ntm</th>\n",
       "    </tr>\n",
       "  </thead>\n",
       "  <tbody>\n",
       "    <tr>\n",
       "      <th>0</th>\n",
       "      <td>0.978264</td>\n",
       "    </tr>\n",
       "    <tr>\n",
       "      <th>1</th>\n",
       "      <td>0.977954</td>\n",
       "    </tr>\n",
       "    <tr>\n",
       "      <th>2</th>\n",
       "      <td>0.978027</td>\n",
       "    </tr>\n",
       "    <tr>\n",
       "      <th>3</th>\n",
       "      <td>0.978264</td>\n",
       "    </tr>\n",
       "    <tr>\n",
       "      <th>4</th>\n",
       "      <td>0.978420</td>\n",
       "    </tr>\n",
       "    <tr>\n",
       "      <th>...</th>\n",
       "      <td>...</td>\n",
       "    </tr>\n",
       "    <tr>\n",
       "      <th>26159</th>\n",
       "      <td>0.978264</td>\n",
       "    </tr>\n",
       "    <tr>\n",
       "      <th>26160</th>\n",
       "      <td>0.978264</td>\n",
       "    </tr>\n",
       "    <tr>\n",
       "      <th>26161</th>\n",
       "      <td>0.978148</td>\n",
       "    </tr>\n",
       "    <tr>\n",
       "      <th>26162</th>\n",
       "      <td>0.978198</td>\n",
       "    </tr>\n",
       "    <tr>\n",
       "      <th>26163</th>\n",
       "      <td>0.977954</td>\n",
       "    </tr>\n",
       "  </tbody>\n",
       "</table>\n",
       "<p>26164 rows × 1 columns</p>\n",
       "</div>"
      ],
      "text/plain": [
       "       minimum_nights_avg_ntm\n",
       "0                    0.978264\n",
       "1                    0.977954\n",
       "2                    0.978027\n",
       "3                    0.978264\n",
       "4                    0.978420\n",
       "...                       ...\n",
       "26159                0.978264\n",
       "26160                0.978264\n",
       "26161                0.978148\n",
       "26162                0.978198\n",
       "26163                0.977954\n",
       "\n",
       "[26164 rows x 1 columns]"
      ]
     },
     "execution_count": 192,
     "metadata": {},
     "output_type": "execute_result"
    }
   ],
   "source": [
    "#Calculamos las predicciones y reestructuramos el vector de predicciones\n",
    "y_pred2"
   ]
  },
  {
   "cell_type": "code",
   "execution_count": null,
   "id": "d1abecae",
   "metadata": {},
   "outputs": [
    {
     "name": "stderr",
     "output_type": "stream",
     "text": [
      "C:\\Users\\sammm\\AppData\\Local\\Temp\\ipykernel_17336\\1481146549.py:2: UserWarning: color is redundantly defined by the 'color' keyword argument and the fmt string \"bo\" (-> color='b'). The keyword argument will take precedence.\n",
      "  plt.plot(x, y, 'bo', label=\"y-original\" , color= \"blue\")\n",
      "C:\\Users\\sammm\\AppData\\Local\\Temp\\ipykernel_17336\\1481146549.py:3: UserWarning: color is redundantly defined by the 'color' keyword argument and the fmt string \"bo\" (-> color='b'). The keyword argument will take precedence.\n",
      "  plt.plot(x, y_pred2, 'bo', label=\"y-predecida con y = a*np.sin(x) + b\", color= \"red\")\n"
     ]
    },
    {
     "data": {
      "image/png": "[encoded data removed]",
      "text/plain": [
       "<Figure size 640x480 with 1 Axes>"
      ]
     },
     "metadata": {},
     "output_type": "display_data"
    }
   ],
   "source": [
    "#Graficamos las predicciones y los datos originales para realizar la comparación\n",
    "plt.plot(x, y, 'bo', label=\"y-original\" , color= \"blue\")\n",
    "plt.plot(x, y_pred2, 'bo', label=\"y-predecida con y = a*np.tan(x) + b\", color= \"red\")\n",
    "plt.xlabel('x')\n",
    "plt.ylabel('y')\n",
    "plt.legend(loc='best', fancybox=True, shadow=True)\n",
    "plt.grid(True)\n",
    "plt.show() "
   ]
  },
  {
   "cell_type": "code",
   "execution_count": null,
   "id": "d857994c",
   "metadata": {},
   "outputs": [
    {
     "data": {
      "text/plain": [
       "np.float64(0.009853584884769194)"
      ]
     },
     "execution_count": 194,
     "metadata": {},
     "output_type": "execute_result"
    }
   ],
   "source": [
    "#Correlación modelo lineal\n",
    "corr2 = df['minimum_nights'].corr(df['host_response_rate'])  # correlación de Pearson entre ambas columnas\n",
    "corr2"
   ]
  },
  {
   "cell_type": "code",
   "execution_count": 195,
   "id": "90b6a85a",
   "metadata": {},
   "outputs": [
    {
     "data": {
      "text/plain": [
       "0.0005523180814186457"
      ]
     },
     "execution_count": 195,
     "metadata": {},
     "output_type": "execute_result"
    }
   ],
   "source": [
    "#Calculamos el coeficiente de determinación del modelo\n",
    "R2_Modelo2 = abs(r2_score(y, y_pred2) )\n",
    "R2_Modelo2\n"
   ]
  },
  {
   "cell_type": "code",
   "execution_count": 196,
   "id": "d0a394e5",
   "metadata": {},
   "outputs": [
    {
     "data": {
      "text/plain": [
       "np.float64(0.023501448496180948)"
      ]
     },
     "execution_count": 196,
     "metadata": {},
     "output_type": "execute_result"
    }
   ],
   "source": [
    "#Calculamos el coeficiente de correlación del modelo\n",
    "R = np.sqrt(abs(R2_Modelo2))\n",
    "R"
   ]
  },
  {
   "cell_type": "code",
   "execution_count": 212,
   "id": "4743733b",
   "metadata": {},
   "outputs": [
    {
     "name": "stdout",
     "output_type": "stream",
     "text": [
      "Collecting jinja2\n",
      "  Downloading jinja2-3.1.6-py3-none-any.whl.metadata (2.9 kB)\n",
      "Collecting MarkupSafe>=2.0 (from jinja2)\n",
      "  Downloading markupsafe-3.0.3-cp313-cp313-win_amd64.whl.metadata (2.8 kB)\n",
      "Downloading jinja2-3.1.6-py3-none-any.whl (134 kB)\n",
      "Downloading markupsafe-3.0.3-cp313-cp313-win_amd64.whl (15 kB)\n",
      "Installing collected packages: MarkupSafe, jinja2\n",
      "\n",
      "   -------------------- ------------------- 1/2 [jinja2]\n",
      "   -------------------- ------------------- 1/2 [jinja2]\n",
      "   -------------------- ------------------- 1/2 [jinja2]\n",
      "   ---------------------------------------- 2/2 [jinja2]\n",
      "\n",
      "Successfully installed MarkupSafe-3.0.3 jinja2-3.1.6\n",
      "Note: you may need to restart the kernel to use updated packages.\n"
     ]
    }
   ],
   "source": [
    "%pip install jinja2\n"
   ]
  },
  {
   "cell_type": "code",
   "execution_count": 213,
   "id": "f5b968c6",
   "metadata": {},
   "outputs": [
    {
     "data": {
      "text/html": [
       "<style type=\"text/css\">\n",
       "</style>\n",
       "<table id=\"T_b9de2\">\n",
       "  <caption>Resumen de correlaciones y coeficientes de determinación</caption>\n",
       "  <thead>\n",
       "    <tr>\n",
       "      <th class=\"blank level0\" >&nbsp;</th>\n",
       "      <th id=\"T_b9de2_level0_col0\" class=\"col_heading level0 col0\" >Modelo</th>\n",
       "      <th id=\"T_b9de2_level0_col1\" class=\"col_heading level0 col1\" >Variable dependiente</th>\n",
       "      <th id=\"T_b9de2_level0_col2\" class=\"col_heading level0 col2\" >Variable independiente</th>\n",
       "      <th id=\"T_b9de2_level0_col3\" class=\"col_heading level0 col3\" >Correlación (r)</th>\n",
       "      <th id=\"T_b9de2_level0_col4\" class=\"col_heading level0 col4\" >R²</th>\n",
       "      <th id=\"T_b9de2_level0_col5\" class=\"col_heading level0 col5\" >R</th>\n",
       "    </tr>\n",
       "  </thead>\n",
       "  <tbody>\n",
       "    <tr>\n",
       "      <th id=\"T_b9de2_level0_row0\" class=\"row_heading level0 row0\" >0</th>\n",
       "      <td id=\"T_b9de2_row0_col0\" class=\"data row0 col0\" >Modelo 1</td>\n",
       "      <td id=\"T_b9de2_row0_col1\" class=\"data row0 col1\" >host_response_rate</td>\n",
       "      <td id=\"T_b9de2_row0_col2\" class=\"data row0 col2\" >minimum_nights</td>\n",
       "      <td id=\"T_b9de2_row0_col3\" class=\"data row0 col3\" >0.009854</td>\n",
       "      <td id=\"T_b9de2_row0_col4\" class=\"data row0 col4\" >0.002515</td>\n",
       "      <td id=\"T_b9de2_row0_col5\" class=\"data row0 col5\" >0.050149</td>\n",
       "    </tr>\n",
       "    <tr>\n",
       "      <th id=\"T_b9de2_level0_row1\" class=\"row_heading level0 row1\" >1</th>\n",
       "      <td id=\"T_b9de2_row1_col0\" class=\"data row1 col0\" >Modelo 2</td>\n",
       "      <td id=\"T_b9de2_row1_col1\" class=\"data row1 col1\" >host_response_rate</td>\n",
       "      <td id=\"T_b9de2_row1_col2\" class=\"data row1 col2\" >minimum_nights</td>\n",
       "      <td id=\"T_b9de2_row1_col3\" class=\"data row1 col3\" >0.009854</td>\n",
       "      <td id=\"T_b9de2_row1_col4\" class=\"data row1 col4\" >0.000552</td>\n",
       "      <td id=\"T_b9de2_row1_col5\" class=\"data row1 col5\" >0.023501</td>\n",
       "    </tr>\n",
       "  </tbody>\n",
       "</table>\n"
      ],
      "text/plain": [
       "<pandas.io.formats.style.Styler at 0x24c633212b0>"
      ]
     },
     "metadata": {},
     "output_type": "display_data"
    }
   ],
   "source": [
    "import pandas as pd\n",
    "from IPython.display import display\n",
    "\n",
    "# Resultados de tus modelos\n",
    "data = {\n",
    "    'Modelo': ['Modelo 1', 'Modelo 2'],\n",
    "    'Variable dependiente': ['host_response_rate', 'host_response_rate'],\n",
    "    'Variable independiente': ['minimum_nights', 'minimum_nights'],\n",
    "    'Correlación (r)': [0.009853584884769194, 0.009853584884769194],\n",
    "    'R²': [0.0025149608429028136, 0.0005523180814186457],\n",
    "    'R': [0.05014938526944088, 0.023501448496180948]\n",
    "}\n",
    "\n",
    "# Crear DataFrame\n",
    "tabla_resultados = pd.DataFrame(data)\n",
    "\n",
    "# Mostrar la tabla\n",
    "display(tabla_resultados.style.set_caption(\"Resumen de correlaciones y coeficientes de determinación\"))\n"
   ]
  },
  {
   "cell_type": "markdown",
   "id": "ea035c86",
   "metadata": {},
   "source": [
    "**HOST ACCEPTANCE RATE**"
   ]
  },
  {
   "cell_type": "markdown",
   "id": "694b3bf1",
   "metadata": {},
   "source": [
    "Modelo 1"
   ]
  },
  {
   "cell_type": "code",
   "execution_count": 252,
   "id": "050afc73",
   "metadata": {},
   "outputs": [],
   "source": [
    "# Función cuadrática\n",
    "def func3(x, a, b, c):\n",
    "    return a*x**2 + b*x + c\n",
    "\n",
    "#Ajustamos los parámetros de la función curve_fit\n",
    "parametros3, covs3= curve_fit(func3, df['price'], df['host_acceptance_rate'])"
   ]
  },
  {
   "cell_type": "code",
   "execution_count": 253,
   "id": "80a6b23b",
   "metadata": {},
   "outputs": [
    {
     "data": {
      "text/plain": [
       "array([8.86052653e-12, 1.47690850e-06, 9.31392541e-01])"
      ]
     },
     "execution_count": 253,
     "metadata": {},
     "output_type": "execute_result"
    }
   ],
   "source": [
    "#Obtenemos los coeficientes del modelo de regresión no lineal\n",
    "parametros3\n"
   ]
  },
  {
   "cell_type": "code",
   "execution_count": 247,
   "id": "360f540b",
   "metadata": {},
   "outputs": [],
   "source": [
    "# Predicciones\n",
    "y_pred3 = func3(x, *parametros3)"
   ]
  },
  {
   "cell_type": "code",
   "execution_count": 248,
   "id": "60542f95",
   "metadata": {},
   "outputs": [
    {
     "data": {
      "text/html": [
       "<div>\n",
       "<style scoped>\n",
       "    .dataframe tbody tr th:only-of-type {\n",
       "        vertical-align: middle;\n",
       "    }\n",
       "\n",
       "    .dataframe tbody tr th {\n",
       "        vertical-align: top;\n",
       "    }\n",
       "\n",
       "    .dataframe thead th {\n",
       "        text-align: right;\n",
       "    }\n",
       "</style>\n",
       "<table border=\"1\" class=\"dataframe\">\n",
       "  <thead>\n",
       "    <tr style=\"text-align: right;\">\n",
       "      <th></th>\n",
       "      <th>minimum_nights_avg_ntm</th>\n",
       "    </tr>\n",
       "  </thead>\n",
       "  <tbody>\n",
       "    <tr>\n",
       "      <th>0</th>\n",
       "      <td>0.931734</td>\n",
       "    </tr>\n",
       "    <tr>\n",
       "      <th>1</th>\n",
       "      <td>0.931734</td>\n",
       "    </tr>\n",
       "    <tr>\n",
       "      <th>2</th>\n",
       "      <td>0.931734</td>\n",
       "    </tr>\n",
       "    <tr>\n",
       "      <th>3</th>\n",
       "      <td>0.931734</td>\n",
       "    </tr>\n",
       "    <tr>\n",
       "      <th>4</th>\n",
       "      <td>0.931734</td>\n",
       "    </tr>\n",
       "    <tr>\n",
       "      <th>...</th>\n",
       "      <td>...</td>\n",
       "    </tr>\n",
       "    <tr>\n",
       "      <th>26159</th>\n",
       "      <td>0.931734</td>\n",
       "    </tr>\n",
       "    <tr>\n",
       "      <th>26160</th>\n",
       "      <td>0.931734</td>\n",
       "    </tr>\n",
       "    <tr>\n",
       "      <th>26161</th>\n",
       "      <td>0.931734</td>\n",
       "    </tr>\n",
       "    <tr>\n",
       "      <th>26162</th>\n",
       "      <td>0.931734</td>\n",
       "    </tr>\n",
       "    <tr>\n",
       "      <th>26163</th>\n",
       "      <td>0.931734</td>\n",
       "    </tr>\n",
       "  </tbody>\n",
       "</table>\n",
       "<p>26164 rows × 1 columns</p>\n",
       "</div>"
      ],
      "text/plain": [
       "       minimum_nights_avg_ntm\n",
       "0                    0.931734\n",
       "1                    0.931734\n",
       "2                    0.931734\n",
       "3                    0.931734\n",
       "4                    0.931734\n",
       "...                       ...\n",
       "26159                0.931734\n",
       "26160                0.931734\n",
       "26161                0.931734\n",
       "26162                0.931734\n",
       "26163                0.931734\n",
       "\n",
       "[26164 rows x 1 columns]"
      ]
     },
     "execution_count": 248,
     "metadata": {},
     "output_type": "execute_result"
    }
   ],
   "source": [
    "#Calculamos las predicciones y reestructuramos el vector de predicciones\n",
    "y_pred3"
   ]
  },
  {
   "cell_type": "code",
   "execution_count": 249,
   "id": "d0cde508",
   "metadata": {},
   "outputs": [
    {
     "name": "stderr",
     "output_type": "stream",
     "text": [
      "C:\\Users\\sammm\\AppData\\Local\\Temp\\ipykernel_17336\\1714282150.py:2: UserWarning: color is redundantly defined by the 'color' keyword argument and the fmt string \"bo\" (-> color='b'). The keyword argument will take precedence.\n",
      "  plt.plot(x, y, 'bo', label=\"y-original\", color= \"blue\")\n",
      "C:\\Users\\sammm\\AppData\\Local\\Temp\\ipykernel_17336\\1714282150.py:3: UserWarning: color is redundantly defined by the 'color' keyword argument and the fmt string \"bo\" (-> color='b'). The keyword argument will take precedence.\n",
      "  plt.plot(x, y_pred1,'bo', label=\"y-predecida con y = a*np.exp(-b*x) + c\", color= \"red\")\n"
     ]
    },
    {
     "data": {
      "image/png": "[encoded data removed]",
      "text/plain": [
       "<Figure size 640x480 with 1 Axes>"
      ]
     },
     "metadata": {},
     "output_type": "display_data"
    }
   ],
   "source": [
    "#Graficamos las predicciones y los datos originales para realizar la comparación\n",
    "plt.plot(x, y, 'bo', label=\"y-original\", color= \"blue\")\n",
    "plt.plot(x, y_pred1,'bo', label=\"y-predecida con y = a*np.exp(-b*x) + c\", color= \"red\")\n",
    "plt.xlabel('x')\n",
    "plt.ylabel('y')\n",
    "plt.legend(loc='best', fancybox=True, shadow=True)\n",
    "plt.grid(True)\n",
    "plt.show() "
   ]
  },
  {
   "cell_type": "code",
   "execution_count": 250,
   "id": "8367dace",
   "metadata": {},
   "outputs": [
    {
     "data": {
      "text/plain": [
       "-0.17923435739735027"
      ]
     },
     "execution_count": 250,
     "metadata": {},
     "output_type": "execute_result"
    }
   ],
   "source": [
    "#Calculamos el coeficiente de determinación del modelo\n",
    "R2_Modelo3 = r2_score(y, y_pred3) \n",
    "R2_Modelo3 "
   ]
  },
  {
   "cell_type": "code",
   "execution_count": 251,
   "id": "ad8f89ef",
   "metadata": {},
   "outputs": [
    {
     "name": "stderr",
     "output_type": "stream",
     "text": [
      "C:\\Users\\sammm\\AppData\\Local\\Temp\\ipykernel_17336\\3094923844.py:2: RuntimeWarning: invalid value encountered in sqrt\n",
      "  R = np.sqrt(R2_Modelo3)\n"
     ]
    },
    {
     "data": {
      "text/plain": [
       "np.float64(nan)"
      ]
     },
     "execution_count": 251,
     "metadata": {},
     "output_type": "execute_result"
    }
   ],
   "source": [
    "#Calculamos el coeficiente de correlación del modelo\n",
    "R = np.sqrt(R2_Modelo3)\n",
    "R"
   ]
  },
  {
   "cell_type": "markdown",
   "id": "05c680b8",
   "metadata": {},
   "source": [
    "Modelo 2"
   ]
  },
  {
   "cell_type": "code",
   "execution_count": 236,
   "id": "2b3189be",
   "metadata": {},
   "outputs": [],
   "source": [
    "# Función inversa\n",
    "def func4(x, a):\n",
    "    return 1/(a*x)\n"
   ]
  },
  {
   "cell_type": "code",
   "execution_count": 237,
   "id": "8a926669",
   "metadata": {},
   "outputs": [
    {
     "name": "stderr",
     "output_type": "stream",
     "text": [
      "C:\\Users\\sammm\\AppData\\Local\\Temp\\ipykernel_17336\\3464409531.py:2: OptimizeWarning: Covariance of the parameters could not be estimated\n",
      "  parametros4, covs4= curve_fit(func4, df['host_response_rate'], df['host_acceptance_rate'])\n"
     ]
    }
   ],
   "source": [
    "#Ajustamos los parámetros de la función curve_fit\n",
    "parametros4, covs4= curve_fit(func4, df['host_response_rate'], df['host_acceptance_rate'])"
   ]
  },
  {
   "cell_type": "code",
   "execution_count": 238,
   "id": "2628f039",
   "metadata": {},
   "outputs": [
    {
     "data": {
      "text/plain": [
       "array([1.])"
      ]
     },
     "execution_count": 238,
     "metadata": {},
     "output_type": "execute_result"
    }
   ],
   "source": [
    "#Obtenemos los coeficientes del modelo de regresión no lineal\n",
    "parametros4"
   ]
  },
  {
   "cell_type": "code",
   "execution_count": 239,
   "id": "2bdf0091",
   "metadata": {},
   "outputs": [],
   "source": [
    "# Predicciones\n",
    "y_pred4 = func4(x, *parametros4)"
   ]
  },
  {
   "cell_type": "code",
   "execution_count": 240,
   "id": "53a2a166",
   "metadata": {},
   "outputs": [
    {
     "data": {
      "text/html": [
       "<div>\n",
       "<style scoped>\n",
       "    .dataframe tbody tr th:only-of-type {\n",
       "        vertical-align: middle;\n",
       "    }\n",
       "\n",
       "    .dataframe tbody tr th {\n",
       "        vertical-align: top;\n",
       "    }\n",
       "\n",
       "    .dataframe thead th {\n",
       "        text-align: right;\n",
       "    }\n",
       "</style>\n",
       "<table border=\"1\" class=\"dataframe\">\n",
       "  <thead>\n",
       "    <tr style=\"text-align: right;\">\n",
       "      <th></th>\n",
       "      <th>minimum_nights_avg_ntm</th>\n",
       "    </tr>\n",
       "  </thead>\n",
       "  <tbody>\n",
       "    <tr>\n",
       "      <th>0</th>\n",
       "      <td>0.333333</td>\n",
       "    </tr>\n",
       "    <tr>\n",
       "      <th>1</th>\n",
       "      <td>1.000000</td>\n",
       "    </tr>\n",
       "    <tr>\n",
       "      <th>2</th>\n",
       "      <td>0.250000</td>\n",
       "    </tr>\n",
       "    <tr>\n",
       "      <th>3</th>\n",
       "      <td>0.333333</td>\n",
       "    </tr>\n",
       "    <tr>\n",
       "      <th>4</th>\n",
       "      <td>0.181818</td>\n",
       "    </tr>\n",
       "    <tr>\n",
       "      <th>...</th>\n",
       "      <td>...</td>\n",
       "    </tr>\n",
       "    <tr>\n",
       "      <th>26159</th>\n",
       "      <td>0.333333</td>\n",
       "    </tr>\n",
       "    <tr>\n",
       "      <th>26160</th>\n",
       "      <td>0.333333</td>\n",
       "    </tr>\n",
       "    <tr>\n",
       "      <th>26161</th>\n",
       "      <td>0.277778</td>\n",
       "    </tr>\n",
       "    <tr>\n",
       "      <th>26162</th>\n",
       "      <td>0.153846</td>\n",
       "    </tr>\n",
       "    <tr>\n",
       "      <th>26163</th>\n",
       "      <td>1.000000</td>\n",
       "    </tr>\n",
       "  </tbody>\n",
       "</table>\n",
       "<p>26164 rows × 1 columns</p>\n",
       "</div>"
      ],
      "text/plain": [
       "       minimum_nights_avg_ntm\n",
       "0                    0.333333\n",
       "1                    1.000000\n",
       "2                    0.250000\n",
       "3                    0.333333\n",
       "4                    0.181818\n",
       "...                       ...\n",
       "26159                0.333333\n",
       "26160                0.333333\n",
       "26161                0.277778\n",
       "26162                0.153846\n",
       "26163                1.000000\n",
       "\n",
       "[26164 rows x 1 columns]"
      ]
     },
     "execution_count": 240,
     "metadata": {},
     "output_type": "execute_result"
    }
   ],
   "source": [
    "#Calculamos las predicciones y reestructuramos el vector de predicciones\n",
    "y_pred4"
   ]
  },
  {
   "cell_type": "code",
   "execution_count": 241,
   "id": "ee8393ba",
   "metadata": {},
   "outputs": [
    {
     "name": "stderr",
     "output_type": "stream",
     "text": [
      "C:\\Users\\sammm\\AppData\\Local\\Temp\\ipykernel_17336\\3437298849.py:2: UserWarning: color is redundantly defined by the 'color' keyword argument and the fmt string \"bo\" (-> color='b'). The keyword argument will take precedence.\n",
      "  plt.plot(x, y, 'bo', label=\"y-original\" , color= \"blue\")\n",
      "C:\\Users\\sammm\\AppData\\Local\\Temp\\ipykernel_17336\\3437298849.py:3: UserWarning: color is redundantly defined by the 'color' keyword argument and the fmt string \"bo\" (-> color='b'). The keyword argument will take precedence.\n",
      "  plt.plot(x, y_pred4, 'bo', label=\"y-predecida con y = 1/(a*x)\", color= \"red\")\n"
     ]
    },
    {
     "data": {
      "image/png": "[encoded data removed]",
      "text/plain": [
       "<Figure size 640x480 with 1 Axes>"
      ]
     },
     "metadata": {},
     "output_type": "display_data"
    }
   ],
   "source": [
    "#Graficamos las predicciones y los datos originales para realizar la comparación\n",
    "plt.plot(x, y, 'bo', label=\"y-original\" , color= \"blue\")\n",
    "plt.plot(x, y_pred4, 'bo', label=\"y-predecida con y = 1/(a*x)\", color= \"red\")\n",
    "plt.xlabel('x')\n",
    "plt.ylabel('y')\n",
    "plt.legend(loc='best', fancybox=True, shadow=True)\n",
    "plt.grid(True)\n",
    "plt.show() "
   ]
  },
  {
   "cell_type": "code",
   "execution_count": 242,
   "id": "9f188901",
   "metadata": {},
   "outputs": [
    {
     "data": {
      "text/plain": [
       "-31.804042204055463"
      ]
     },
     "execution_count": 242,
     "metadata": {},
     "output_type": "execute_result"
    }
   ],
   "source": [
    "#Calculamos el coeficiente de determinación del modelo\n",
    "R2_Modelo4 = r2_score(y, y_pred4) \n",
    "R2_Modelo4"
   ]
  }
 ],
 "metadata": {
  "kernelspec": {
   "display_name": "Python 3",
   "language": "python",
   "name": "python3"
  },
  "language_info": {
   "codemirror_mode": {
    "name": "ipython",
    "version": 3
   },
   "file_extension": ".py",
   "mimetype": "text/x-python",
   "name": "python",
   "nbconvert_exporter": "python",
   "pygments_lexer": "ipython3",
   "version": "3.13.6"
  }
 },
 "nbformat": 4,
 "nbformat_minor": 5
}
